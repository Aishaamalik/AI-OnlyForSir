{
  "nbformat": 4,
  "nbformat_minor": 0,
  "metadata": {
    "colab": {
      "provenance": [],
      "authorship_tag": "ABX9TyNm+VzXEhFwQXCu/xyntSVN",
      "include_colab_link": true
    },
    "kernelspec": {
      "name": "python3",
      "display_name": "Python 3"
    },
    "language_info": {
      "name": "python"
    }
  },
  "cells": [
    {
      "cell_type": "markdown",
      "metadata": {
        "id": "view-in-github",
        "colab_type": "text"
      },
      "source": [
        "<a href=\"https://colab.research.google.com/github/Aishaamalik/AI-OnlyForSir/blob/main/Lab_2.ipynb\" target=\"_parent\"><img src=\"https://colab.research.google.com/assets/colab-badge.svg\" alt=\"Open In Colab\"/></a>"
      ]
    },
    {
      "cell_type": "code",
      "execution_count": null,
      "metadata": {
        "colab": {
          "base_uri": "https://localhost:8080/"
        },
        "id": "1lrFyUAi3SeE",
        "outputId": "7326eee1-2dd5-4ec6-a077-ca7542f52339"
      },
      "outputs": [
        {
          "output_type": "stream",
          "name": "stdout",
          "text": [
            "Enter  1  value for List 1: \n",
            "2\n",
            "Enter  1  value for List 2: \n",
            "3\n",
            "Enter  2  value for List 1: \n",
            "4\n",
            "Enter  2  value for List 2: \n",
            "5\n",
            "Enter  3  value for List 1: \n",
            "6\n",
            "Enter  3  value for List 2: \n",
            "7\n",
            "Enter  4  value for List 1: \n",
            "8\n",
            "Enter  4  value for List 2: \n",
            "9\n",
            "Enter  5  value for List 1: \n",
            "10\n",
            "Enter  5  value for List 2: \n",
            "11\n",
            "------------------------------------------------\n",
            "[2, 4, 6, 8, 10, 3, 5, 7, 9, 11]\n"
          ]
        }
      ],
      "source": [
        "# Activity 1 \n",
        "# Accept two lists from user and display their join.\n",
        "\n",
        "list1=[]\n",
        "list2=[]\n",
        "list3=[]\n",
        "\n",
        "\n",
        "for i in range(0,5,1):\n",
        "  print(\"Enter \",(i+1),\" value for List 1: \")\n",
        "  val=int(input())\n",
        "  list1.append(val)\n",
        "  print(\"Enter \",(i+1),\" value for List 2: \")\n",
        "  val=int(input())\n",
        "  list2.append(val)\n",
        "\n",
        "\n",
        "list3=list1+list2\n",
        "print(\"------------------------------------------------\")\n",
        "\n",
        "print(list3)\n"
      ]
    },
    {
      "cell_type": "code",
      "source": [
        "# Activity 2: \n",
        "# A palindrome is a string which is same read forward or backwards. \n",
        "\n",
        "def IsPalindrome(word):\n",
        "  strg=\"\"\n",
        "  rev=\"\"\n",
        "  length=len(word)+1\n",
        "  for i in range(-1,-length,-1):\n",
        "    rev=word[i]\n",
        "    strg=strg+rev\n",
        "  if strg == word:\n",
        "    return True\n",
        "  else:\n",
        "    return False\n",
        "\n",
        "word=input(\"Enter a string: \")\n",
        "print(IsPalindrome(word))\n"
      ],
      "metadata": {
        "colab": {
          "base_uri": "https://localhost:8080/"
        },
        "id": "_GDbZKO38uPc",
        "outputId": "7316117c-f71c-414c-c5a1-4c8d200759fe"
      },
      "execution_count": null,
      "outputs": [
        {
          "output_type": "stream",
          "name": "stdout",
          "text": [
            "Enter a string: deed\n",
            "True\n"
          ]
        }
      ]
    },
    {
      "cell_type": "code",
      "source": [
        "# Activity 3: \n",
        "# Imagine two matrices given in the form of 2D lists as under;\n",
        "# a = [[1, 0, 0], [0, 1, 0], [0, 0, 1] ] b = [[1, 2, 3], [4, 5, 6], [7, 8, 9] ] \n",
        "# Write a python code that finds another matrix/2D list that is a product of a and b, i.e., C=a*b\n",
        "\n",
        "a = [[1, 0, 0], [0, 1, 0], [0, 0, 1] ] \n",
        "b = [[1, 2, 3], [4, 5, 6], [7, 8, 9] ]\n",
        "c=[]\n",
        "d=[[1, 1, 1], [1, 0, 6], [1, 0, 9] ]\n",
        "final=[]\n",
        "\n",
        "for row in range(3):\n",
        "  c.append([])\n",
        "  for col in range(3):\n",
        "    c[row].append(0)\n",
        "    for aux in range(3):\n",
        "      c[row][col]+=a[row][aux]*b[aux][col]\n",
        "\n",
        "print(c)\n",
        "\n",
        "for row in range(3):\n",
        "  final.append([])\n",
        "  for col in range(3):\n",
        "    final[row].append(0)\n",
        "    for aux in range(3):\n",
        "      final[row][col]+=c[row][aux]*d[aux][col]\n",
        "\n",
        "print(\"Final\")\n",
        "print(final)\n",
        "\n",
        "\n",
        "\n",
        " \n"
      ],
      "metadata": {
        "colab": {
          "base_uri": "https://localhost:8080/"
        },
        "id": "x9jT5nqBAobX",
        "outputId": "c3a44541-03d8-493b-e1cb-ed166f8eb923"
      },
      "execution_count": null,
      "outputs": [
        {
          "output_type": "stream",
          "name": "stdout",
          "text": [
            "[[1, 2, 3], [4, 5, 6], [7, 8, 9]]\n",
            "Final\n",
            "[[6, 1, 40], [15, 4, 88], [24, 7, 136]]\n"
          ]
        }
      ]
    },
    {
      "cell_type": "code",
      "source": [
        "# Printing of 2D\n",
        "a = [[1, 0, 0], [0, 1, 0], [0, 0, 1] ] \n",
        "b = [[1, 2, 3], [4, 5, 6], [7, 8, 9] ]\n",
        "c=[]\n",
        "d=[[1, 1, 1], [1, 0, 6], [1, 0, 9] ]\n",
        "final=[]\n",
        "\n",
        "\n",
        "def multiply(a,b,c):\n",
        "  for row in range(3):\n",
        "    c.append([])\n",
        "    for col in range(3):\n",
        "      c[row].append(0)\n",
        "      for aux in range(3):\n",
        "        c[row][col]+=a[row][aux]*b[aux][col]\n",
        "\n",
        "multiply(a,b,c)\n",
        "print(\"Printing c: \",c)\n",
        "multiply(c,d,final)\n",
        "print(\"Printing final: \",final)\n"
      ],
      "metadata": {
        "colab": {
          "base_uri": "https://localhost:8080/"
        },
        "id": "M5BxpSyVNXH-",
        "outputId": "82f8fed2-3ec4-4763-ff81-ed6d17966e97"
      },
      "execution_count": null,
      "outputs": [
        {
          "output_type": "stream",
          "name": "stdout",
          "text": [
            "Printing c:  [[1, 2, 3], [4, 5, 6], [7, 8, 9]]\n",
            "Printing final:  [[6, 1, 40], [15, 4, 88], [24, 7, 136]]\n"
          ]
        }
      ]
    },
    {
      "cell_type": "code",
      "source": [
        "def perimeter(listing):\n",
        "  leng=len(listing)\n",
        "  perimeter=0;\n",
        "  for i in range(0,leng-1):\n",
        "    dist = (((listing[i][0]-listing[i+1][0])**2) + ((listing[i][1]-listing[i+1][1])**2))**0.5\n",
        "    perimeter = perimeter + dist\n",
        "  perimeter = perimeter+(((listing[0][0]-listing[leng-1][0])**2) + ((listing [0][1] - listing [leng-1][1])**2))** 0.5\n",
        "  return perimeter\n",
        "L = [(1,3), (2,7), (3,9), (-1,8)]\n",
        "print(perimeter(L))"
      ],
      "metadata": {
        "colab": {
          "base_uri": "https://localhost:8080/"
        },
        "id": "C89JTQKEQQqK",
        "outputId": "b5295732-7c00-40e0-f4ed-ad78958a4bfd"
      },
      "execution_count": null,
      "outputs": [
        {
          "output_type": "stream",
          "name": "stdout",
          "text": [
            "15.867444035869614\n"
          ]
        }
      ]
    },
    {
      "cell_type": "code",
      "execution_count": null,
      "metadata": {
        "colab": {
          "base_uri": "https://localhost:8080/"
        },
        "id": "ZCMY7YMr5qGG",
        "outputId": "44b0b840-8fd6-40f9-d940-d456573ef593"
      },
      "outputs": [
        {
          "output_type": "stream",
          "name": "stdout",
          "text": [
            "Enter number of elements:5\n",
            "Enter element:12\n",
            "Enter element:12\n",
            "Enter element:43\n",
            "Enter element:5\n",
            "Enter element:3\n",
            "Enter number of elements:7\n",
            "Enter element:3256\n",
            "Enter element:1\n",
            "Enter element:3\n",
            "Enter element:4\n",
            "Enter element:3\n",
            "Enter element:3\n",
            "Enter element:7\n",
            "Sorted list is: [1, 3, 3, 3, 3, 4, 5, 7, 12, 12, 43, 3256]\n"
          ]
        }
      ],
      "source": [
        "# Lab Task 1\n",
        "# take two useer input lists and merge both list and display them in sorted order\n",
        "a=[]\n",
        "c=[]\n",
        "n1=int(input(\"Enter number of elements:\"))\n",
        "for i in range(1,n1+1):\n",
        "    b=int(input(\"Enter element:\"))\n",
        "    a.append(b)\n",
        "n2=int(input(\"Enter number of elements:\"))\n",
        "for i in range(1,n2+1):\n",
        "    d=int(input(\"Enter element:\"))\n",
        "    c.append(d)\n",
        "new=a+c\n",
        "new.sort()\n",
        "print(\"Sorted list is:\",new)"
      ]
    },
    {
      "cell_type": "code",
      "source": [
        "# Lab Task 2\n",
        "# Repeat the above activity to find the smallest and largest element of the list.\n",
        "a=[]\n",
        "c=[]\n",
        "n1=int(input(\"Enter number of elements:\"))\n",
        "for i in range(1,n1+1):\n",
        "    b=int(input(\"Enter element:\"))\n",
        "    a.append(b)\n",
        "n2=int(input(\"Enter number of elements:\"))\n",
        "for i in range(1,n2+1):\n",
        "    d=int(input(\"Enter element:\"))\n",
        "    c.append(d)\n",
        "new=a+c\n",
        "new.sort()\n",
        "print(\"Sorted list is:\",new)\n",
        "print (max(new))\n",
        "print (min(new))"
      ],
      "metadata": {
        "colab": {
          "base_uri": "https://localhost:8080/"
        },
        "id": "AJiIDhYAAVzG",
        "outputId": "1497c63b-a03a-4545-ca33-59988e6779c7"
      },
      "execution_count": null,
      "outputs": [
        {
          "output_type": "stream",
          "name": "stdout",
          "text": [
            "Enter number of elements:3\n",
            "Enter element:1\n",
            "Enter element:3\n",
            "Enter element:2\n",
            "Enter number of elements:3\n",
            "Enter element:6\n",
            "Enter element:4\n",
            "Enter element:5\n",
            "Sorted list is: [1, 2, 3, 4, 5, 6]\n",
            "6\n",
            "1\n"
          ]
        }
      ]
    },
    {
      "cell_type": "code",
      "source": [
        "# Lab 4 \n",
        "# birthday tracker\n",
        "def show_all_in_dict(dict):\n",
        "\n",
        "    print('We know the birthdays of:')\n",
        "    for key in dict:\n",
        "        print(key)\n",
        "\n",
        "def search(query, dict):\n",
        "\n",
        "    return dict[query] if query in dict else None\n",
        "\n",
        "def main():\n",
        "    Birthdays ={\"Ayesha malik\": \"31/08/2001\",\n",
        "                \"Asfand yar malik\": \"24/08/1999\",\n",
        "                \"Ares\": \"6/07/2022\"}\n",
        "    print('Welcome to the birthday dictionary.')\n",
        "    show_all_in_dict(Birthdays)\n",
        "    query = input(\"Enter name:\")\n",
        "    result = Birthdays[query] if query in Birthdays else None\n",
        "    if result == None:\n",
        "        print('No Data')\n",
        "    else:\n",
        "        print(\"{}'s birthday is {}\".format(query, Birthdays[query]))\n",
        "    \n",
        "        \n",
        "if __name__ == \"__main__\":\n",
        "    main()"
      ],
      "metadata": {
        "colab": {
          "base_uri": "https://localhost:8080/"
        },
        "id": "UVT8_6JiAode",
        "outputId": "7382fc8b-d9e6-4c4b-ca1b-00a8c404ba0a"
      },
      "execution_count": null,
      "outputs": [
        {
          "output_type": "stream",
          "name": "stdout",
          "text": [
            "Welcome to the birthday dictionary.\n",
            "We know the birthdays of:\n",
            "Ayesha malik\n",
            "Asfand yar malik\n",
            "Ares\n",
            "Enter name:Ares\n",
            "Ares's birthday is 6/07/2022\n"
          ]
        }
      ]
    },
    {
      "cell_type": "code",
      "source": [
        "# Lab Task 5\n",
        "# Write a Python program to create a new dictionary by extracting the mentioned keys from the below \n",
        "employees = ['Kelly', 'Emma']\n",
        "defaults = {\"designation\": 'Developer', \"salary\": 8000}\n",
        "\n",
        "res = dict.fromkeys(employees, defaults)\n",
        "print(res)\n",
        "\n",
        "# Individual data\n",
        "print(res[\"Kelly\"])"
      ],
      "metadata": {
        "colab": {
          "base_uri": "https://localhost:8080/"
        },
        "id": "oGdQiUWdEZmm",
        "outputId": "512c84ac-78a1-4e6b-d062-af5b748063d1"
      },
      "execution_count": null,
      "outputs": [
        {
          "output_type": "stream",
          "name": "stdout",
          "text": [
            "{'Kelly': {'designation': 'Developer', 'salary': 8000}, 'Emma': {'designation': 'Developer', 'salary': 8000}}\n",
            "{'designation': 'Developer', 'salary': 8000}\n"
          ]
        }
      ]
    },
    {
      "cell_type": "code",
      "source": [
        "# Lab 3\n",
        "# the derivate of a function f(x) is a measurement of how quickly the function f changes with respect to change in its domain x.\n",
        "#Task 3\n",
        "import math\n",
        "from math import *\n",
        "x=float(input(\"enter x\"))\n",
        "h=0.001\n",
        "m=(sin(x+h)-sin(x))/h\n",
        "n=cos(x)\n",
        "m=math.ceil(m*100)/100\n",
        "n=math.ceil(n*100)/100 if(math.isclose(m, n)):\n",
        "print(\"Equal\")\n",
        "else:\n",
        "print(\"Not Equal\")\n",
        "print(m)\n",
        "print(n)"
      ],
      "metadata": {
        "colab": {
          "base_uri": "https://localhost:8080/",
          "height": 135
        },
        "id": "Clfl-kXEL-Ys",
        "outputId": "a4d1bf7b-f702-4383-d2fc-a2d9ec8b5038"
      },
      "execution_count": null,
      "outputs": [
        {
          "output_type": "error",
          "ename": "SyntaxError",
          "evalue": "ignored",
          "traceback": [
            "\u001b[0;36m  File \u001b[0;32m\"<ipython-input-16-325d385e1da3>\"\u001b[0;36m, line \u001b[0;32m11\u001b[0m\n\u001b[0;31m    n=math.ceil(n*100)/100 if(math.isclose(m, n)):\u001b[0m\n\u001b[0m                                                 ^\u001b[0m\n\u001b[0;31mSyntaxError\u001b[0m\u001b[0;31m:\u001b[0m invalid syntax\n"
          ]
        }
      ]
    }
  ]
}