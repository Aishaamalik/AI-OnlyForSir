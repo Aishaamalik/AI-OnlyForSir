{
  "nbformat": 4,
  "nbformat_minor": 0,
  "metadata": {
    "colab": {
      "provenance": [],
      "authorship_tag": "ABX9TyOjcCO/OeYAfALFnhzVPoLY",
      "include_colab_link": true
    },
    "kernelspec": {
      "name": "python3",
      "display_name": "Python 3"
    },
    "language_info": {
      "name": "python"
    }
  },
  "cells": [
    {
      "cell_type": "markdown",
      "metadata": {
        "id": "view-in-github",
        "colab_type": "text"
      },
      "source": [
        "<a href=\"https://colab.research.google.com/github/Aishaamalik/AI-OnlyForSir/blob/main/AI_LAB_1.ipynb\" target=\"_parent\"><img src=\"https://colab.research.google.com/assets/colab-badge.svg\" alt=\"Open In Colab\"/></a>"
      ]
    },
    {
      "cell_type": "code",
      "source": [
        "# lab task 1\n",
        "Number = int(input(\"please enter any number: \"))    \n",
        "R = 0    \n",
        "while(Number > 0):    \n",
        "    Reminder = Number %10    \n",
        "    R = (R *10) + Reminder    \n",
        "    Number = Number //10    \n",
        "     \n",
        "print(\"\\n Reverse of entered number is =%d\" %R) "
      ],
      "metadata": {
        "colab": {
          "base_uri": "https://localhost:8080/"
        },
        "id": "TIyCYJ8_0pRg",
        "outputId": "6f17abef-61e3-463c-d61d-94048cb5dcdb"
      },
      "execution_count": null,
      "outputs": [
        {
          "output_type": "stream",
          "name": "stdout",
          "text": [
            "please enter any number: 12345\n",
            "\n",
            " Reverse of entered number is =54321\n"
          ]
        }
      ]
    },
    {
      "cell_type": "code",
      "source": [
        "# lab task 2\n",
        " \n",
        "maximum = int(input(\" Please Enter the Maximum Value : \"))\n",
        "even = 0\n",
        "odd = 0\n",
        " \n",
        "for number in range(1, maximum + 1):\n",
        "    if(number % 2 == 0):\n",
        "        even = even + number\n",
        "    else:\n",
        "        odd = odd + number\n",
        " \n",
        "print(\"The Sum of Even Numbers from 1 to {0} = {1}\".format(number, even))\n",
        "print(\"The Sum of Odd Numbers from 1 to {0} = {1}\".format(number, odd))"
      ],
      "metadata": {
        "colab": {
          "base_uri": "https://localhost:8080/"
        },
        "id": "0mEcMZIY1BnZ",
        "outputId": "d59dc444-5bf0-41b3-c8e3-77a91ffcba2d"
      },
      "execution_count": null,
      "outputs": [
        {
          "output_type": "stream",
          "name": "stdout",
          "text": [
            " Please Enter the Maximum Value : 5\n",
            "The Sum of Even Numbers from 1 to 5 = 6\n",
            "The Sum of Odd Numbers from 1 to 5 = 9\n"
          ]
        }
      ]
    },
    {
      "cell_type": "code",
      "source": [
        "# lab task 3\n",
        "nterms = int(input(\"How many terms? \"))\n",
        "\n",
        "n1, n2 = 0, 1\n",
        "count = 0\n",
        "\n",
        "if nterms <= 0:\n",
        "   print(\"Please enter a positive integer\")\n",
        "elif nterms == 1:\n",
        "   print(\"Fibonacci sequence upto\",nterms,\":\")\n",
        "   print(n1)\n",
        "else:\n",
        "   print(\"Fibonacci sequence:\")\n",
        "   while count < nterms:\n",
        "       print(n1)\n",
        "       nth = n1 + n2\n",
        "       n1 = n2\n",
        "       n2 = nth\n",
        "       count += 1"
      ],
      "metadata": {
        "colab": {
          "base_uri": "https://localhost:8080/"
        },
        "id": "7VLQsjDD19JO",
        "outputId": "b9197d8c-e3cf-458c-e0be-8585b364ad71"
      },
      "execution_count": null,
      "outputs": [
        {
          "output_type": "stream",
          "name": "stdout",
          "text": [
            "How many terms? 10\n",
            "Fibonacci sequence:\n",
            "0\n",
            "1\n",
            "1\n",
            "2\n",
            "3\n",
            "5\n",
            "8\n",
            "13\n",
            "21\n",
            "34\n"
          ]
        }
      ]
    },
    {
      "cell_type": "code",
      "source": [
        "# lab task 44\n",
        "print(\"Enter Marks Obtained in  Subject: \")\n",
        "marks = int(input())\n",
        "\n",
        "\n",
        "if marks>=91 and marks<=100:\n",
        "    print(\"Your Grade is A\")\n",
        "elif marks>=81 and marks<90:\n",
        "    print(\"Your Grade is B\")\n",
        "elif marks>=71 and marks<80:\n",
        "    print(\"Your Grade is C\")\n",
        "elif marks>=61 and marks<70:\n",
        "    print(\"Your Grade is D\")\n",
        "elif marks>=51 and marks<60:\n",
        "    print(\"Your Grade is E\")\n",
        "elif marks<50:\n",
        "    print(\"Your Grade is F\")\n",
        "\n",
        "else:\n",
        "    print(\"Invalid Input!\")"
      ],
      "metadata": {
        "colab": {
          "base_uri": "https://localhost:8080/"
        },
        "id": "i72tUwzT2xTt",
        "outputId": "2d75ca0b-27f2-41e7-872b-e7112e2a1315"
      },
      "execution_count": null,
      "outputs": [
        {
          "output_type": "stream",
          "name": "stdout",
          "text": [
            "Enter Marks Obtained in  Subject: \n",
            "95\n",
            "Your Grade is A\n"
          ]
        }
      ]
    },
    {
      "cell_type": "code",
      "source": [
        "# lab task 5\n",
        "num = int(input(\"Enter a number: \"))    \n",
        "factorial = 1    \n",
        "if num < 0:    \n",
        "   print(\" Factorial does not exist for negative numbers\")    \n",
        "elif num == 0:    \n",
        "   print(\"The factorial of 0 is 1\")    \n",
        "else:    \n",
        "   for i in range(1,num + 1):    \n",
        "       factorial = factorial*i    \n",
        "   print(\"The factorial of\",num,\"is\",factorial) "
      ],
      "metadata": {
        "colab": {
          "base_uri": "https://localhost:8080/"
        },
        "id": "VaFZ8tpT4RJ-",
        "outputId": "46d831a8-e9c7-4df6-9c13-ada84a699b6e"
      },
      "execution_count": null,
      "outputs": [
        {
          "output_type": "stream",
          "name": "stdout",
          "text": [
            "Enter a number: 5\n",
            "The factorial of 5 is 120\n"
          ]
        }
      ]
    }
  ]
}