{
  "nbformat": 4,
  "nbformat_minor": 0,
  "metadata": {
    "colab": {
      "provenance": [],
      "authorship_tag": "ABX9TyNBpNuJfT7BVPQSHL3bhygl",
      "include_colab_link": true
    },
    "kernelspec": {
      "name": "python3",
      "display_name": "Python 3"
    },
    "language_info": {
      "name": "python"
    }
  },
  "cells": [
    {
      "cell_type": "markdown",
      "metadata": {
        "id": "view-in-github",
        "colab_type": "text"
      },
      "source": [
        "<a href=\"https://colab.research.google.com/github/Aishaamalik/AI-OnlyForSir/blob/main/os_project.ipynb\" target=\"_parent\"><img src=\"https://colab.research.google.com/assets/colab-badge.svg\" alt=\"Open In Colab\"/></a>"
      ]
    },
    {
      "cell_type": "code",
      "execution_count": 1,
      "metadata": {
        "colab": {
          "base_uri": "https://localhost:8080/"
        },
        "id": "07DHaqEkzDRI",
        "outputId": "3e198bab-23f1-4923-b0f1-d7ef6ab5c180"
      },
      "outputs": [
        {
          "output_type": "stream",
          "name": "stdout",
          "text": [
            "P4 completed at time 6\n",
            "P3 completed at time -2\n",
            "P3 completed at time -2\n",
            "P3 completed at time -2\n",
            "P3 completed at time -2\n"
          ]
        }
      ],
      "source": [
        "class Process:\n",
        "  def __init__(self, name, arrival_time, burst_time, priority):\n",
        "    self.name = name\n",
        "    self.arrival_time = arrival_time\n",
        "    self.burst_time = burst_time\n",
        "    self.priority = priority\n",
        "\n",
        "class MLQScheduler:\n",
        "  def __init__(self, processes, quantum):\n",
        "    self.processes = processes\n",
        "    self.quantum = quantum\n",
        "\n",
        "  def run(self):\n",
        "    # Sort the processes by arrival time\n",
        "    self.processes.sort(key=lambda x: x.arrival_time)\n",
        "\n",
        "    # Initialize the current time and the list of completed processes\n",
        "    current_time = 0\n",
        "    completed_processes = []\n",
        "\n",
        "    # Initialize the ready queue for each priority level\n",
        "    ready_queues = [[] for i in range(5)]\n",
        "\n",
        "    # Iterate until all processes have completed\n",
        "    while len(completed_processes) < len(self.processes):\n",
        "      # Add any new processes that have arrived to the appropriate ready queue\n",
        "      for p in self.processes:\n",
        "        if p.arrival_time <= current_time and p not in completed_processes:\n",
        "          ready_queues[p.priority-1].append(p)\n",
        "\n",
        "      # Select the next process to run based on priority\n",
        "      for i in range(5):\n",
        "        if len(ready_queues[i]) > 0:\n",
        "          current_process = ready_queues[i][0]\n",
        "          ready_queues[i] = ready_queues[i][1:]\n",
        "          break\n",
        "\n",
        "      # Run the current process for the specified quantum\n",
        "      current_time += self.quantum\n",
        "      current_process.burst_time -= self.quantum\n",
        "\n",
        "      # If the process has completed, add it to the list of completed processes\n",
        "      if current_process.burst_time <= 0:\n",
        "        completed_processes.append(current_process)\n",
        "\n",
        "    # Return the list of completed processes\n",
        "    return completed_processes\n",
        "\n",
        "# Example usage\n",
        "processes = [\n",
        "  Process('P1', 0, 10, 3),\n",
        "  Process('P2', 2, 5, 4),\n",
        "  Process('P3', 4, 8, 2),\n",
        "  Process('P4', 6, 12, 1),\n",
        "  Process('P5', 8, 7, 3)\n",
        "]\n",
        "\n",
        "scheduler = MLQScheduler(processes, 2)\n",
        "completed_processes = scheduler.run()\n",
        "\n",
        "for p in completed_processes:\n",
        "  print(f'{p.name} completed at time {p.arrival_time + p.burst_time}')\n"
      ]
    }
  ]
}